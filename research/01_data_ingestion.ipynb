{
 "cells": [
  {
   "cell_type": "markdown",
   "metadata": {},
   "source": [
    "https://www.kaggle.com/datasets/muhammadmaazsayyed/chicken-disease-dataset/download?datasetVersionNumber=1"
   ]
  },
  {
   "cell_type": "markdown",
   "metadata": {},
   "source": [
    "# Example usage:\n",
    "# Replace the placeholders with your Kaggle dataset details and API credentials\n",
    "download_kaggle_dataset(\n",
    "    dataset_name='your-username/dataset-name',\n",
    "    output_folder='/path/to/local/folder',\n",
    "    kaggle_username='your-kaggle-username',\n",
    "    kaggle_key='your-kaggle-api-key'\n",
    ")\n"
   ]
  },
  {
   "cell_type": "code",
   "execution_count": 1,
   "metadata": {},
   "outputs": [
    {
     "name": "stdout",
     "output_type": "stream",
     "text": [
      "Requirement already satisfied: kaggle in c:\\users\\maaz\\anaconda3\\envs\\chicken\\lib\\site-packages (1.6.3)\n",
      "Requirement already satisfied: six>=1.10 in c:\\users\\maaz\\anaconda3\\envs\\chicken\\lib\\site-packages (from kaggle) (1.16.0)\n",
      "Requirement already satisfied: certifi in c:\\users\\maaz\\anaconda3\\envs\\chicken\\lib\\site-packages (from kaggle) (2023.11.17)\n",
      "Requirement already satisfied: python-dateutil in c:\\users\\maaz\\anaconda3\\envs\\chicken\\lib\\site-packages (from kaggle) (2.8.2)\n",
      "Requirement already satisfied: requests in c:\\users\\maaz\\anaconda3\\envs\\chicken\\lib\\site-packages (from kaggle) (2.31.0)\n",
      "Requirement already satisfied: tqdm in c:\\users\\maaz\\anaconda3\\envs\\chicken\\lib\\site-packages (from kaggle) (4.66.1)\n",
      "Requirement already satisfied: python-slugify in c:\\users\\maaz\\anaconda3\\envs\\chicken\\lib\\site-packages (from kaggle) (8.0.1)\n",
      "Requirement already satisfied: urllib3 in c:\\users\\maaz\\anaconda3\\envs\\chicken\\lib\\site-packages (from kaggle) (2.1.0)\n",
      "Requirement already satisfied: bleach in c:\\users\\maaz\\anaconda3\\envs\\chicken\\lib\\site-packages (from kaggle) (6.1.0)\n",
      "Requirement already satisfied: webencodings in c:\\users\\maaz\\anaconda3\\envs\\chicken\\lib\\site-packages (from bleach->kaggle) (0.5.1)\n",
      "Requirement already satisfied: text-unidecode>=1.3 in c:\\users\\maaz\\anaconda3\\envs\\chicken\\lib\\site-packages (from python-slugify->kaggle) (1.3)\n",
      "Requirement already satisfied: charset-normalizer<4,>=2 in c:\\users\\maaz\\anaconda3\\envs\\chicken\\lib\\site-packages (from requests->kaggle) (3.3.2)\n",
      "Requirement already satisfied: idna<4,>=2.5 in c:\\users\\maaz\\anaconda3\\envs\\chicken\\lib\\site-packages (from requests->kaggle) (3.6)\n",
      "Requirement already satisfied: colorama in c:\\users\\maaz\\anaconda3\\envs\\chicken\\lib\\site-packages (from tqdm->kaggle) (0.4.6)\n"
     ]
    }
   ],
   "source": [
    "import os\n",
    "!pip install kaggle"
   ]
  },
  {
   "cell_type": "code",
   "execution_count": 2,
   "metadata": {},
   "outputs": [
    {
     "data": {
      "text/plain": [
       "'d:\\\\PW_DS\\\\Deep Learning\\\\End-To-End-Chicken-Disease-Classification-Project-using-CNN\\\\research'"
      ]
     },
     "execution_count": 2,
     "metadata": {},
     "output_type": "execute_result"
    }
   ],
   "source": [
    "pwd"
   ]
  },
  {
   "cell_type": "code",
   "execution_count": 3,
   "metadata": {},
   "outputs": [],
   "source": [
    "os.chdir('../')"
   ]
  },
  {
   "cell_type": "code",
   "execution_count": 4,
   "metadata": {},
   "outputs": [
    {
     "data": {
      "text/plain": [
       "'d:\\\\PW_DS\\\\Deep Learning\\\\End-To-End-Chicken-Disease-Classification-Project-using-CNN'"
      ]
     },
     "execution_count": 4,
     "metadata": {},
     "output_type": "execute_result"
    }
   ],
   "source": [
    "pwd"
   ]
  },
  {
   "cell_type": "markdown",
   "metadata": {},
   "source": [
    "## Entity"
   ]
  },
  {
   "cell_type": "code",
   "execution_count": 5,
   "metadata": {},
   "outputs": [],
   "source": [
    "from dataclasses import dataclass\n",
    "from pathlib import Path"
   ]
  },
  {
   "cell_type": "code",
   "execution_count": 6,
   "metadata": {},
   "outputs": [],
   "source": [
    "@dataclass(frozen=True)\n",
    "class DataIngestionConfig:\n",
    "    root_dir: Path\n",
    "    source_url: Path\n",
    "    unzip_dir: Path\n",
    "    kaggle_api_key: Path\n",
    "    dataset_name: str\n",
    "    kaggle_username: str"
   ]
  },
  {
   "cell_type": "code",
   "execution_count": 7,
   "metadata": {},
   "outputs": [],
   "source": [
    "from chicken_disease_classification.constants import  *\n",
    "from chicken_disease_classification.utils.common import  read_yaml, create_directories, download_kaggle_dataset"
   ]
  },
  {
   "cell_type": "markdown",
   "metadata": {},
   "source": [
    "## Configuration Manager"
   ]
  },
  {
   "cell_type": "code",
   "execution_count": 8,
   "metadata": {},
   "outputs": [
    {
     "data": {
      "text/plain": [
       "WindowsPath('config/config.yaml')"
      ]
     },
     "execution_count": 8,
     "metadata": {},
     "output_type": "execute_result"
    }
   ],
   "source": [
    "CONFIG_FILE_PATH"
   ]
  },
  {
   "cell_type": "code",
   "execution_count": 9,
   "metadata": {},
   "outputs": [
    {
     "data": {
      "text/plain": [
       "WindowsPath('params.yaml')"
      ]
     },
     "execution_count": 9,
     "metadata": {},
     "output_type": "execute_result"
    }
   ],
   "source": [
    "PARAMS_FILE_PATH"
   ]
  },
  {
   "cell_type": "code",
   "execution_count": 10,
   "metadata": {},
   "outputs": [],
   "source": [
    "class ConfigurationManager:\n",
    "    def __init__(\n",
    "        self,\n",
    "        config_file_path = CONFIG_FILE_PATH,\n",
    "        params_file_path = PARAMS_FILE_PATH):\n",
    "\n",
    "        self.config = read_yaml(config_file_path)\n",
    "        self.params = read_yaml(params_file_path)\n",
    "\n",
    "        create_directories([self.config.artifacts_root])\n",
    "\n",
    "\n",
    "    def get_data_ingestion_config(self) -> DataIngestionConfig:\n",
    "        self.config = self.config.data_ingestion\n",
    "        self.params = self.params.data_ingestion\n",
    "\n",
    "        create_directories([self.config.root_dir])\n",
    "\n",
    "        print(\"Manager\")\n",
    "        data_ingestion_config = DataIngestionConfig(\n",
    "            root_dir = self.config.root_dir,\n",
    "            source_url = self.config.source_url,\n",
    "            unzip_dir = self.config.unzip_dir,\n",
    "            kaggle_api_key = self.config.kaggle_api_key,\n",
    "            dataset_name = self.params.dataset_name,\n",
    "            kaggle_username = self.params.kaggle_username\n",
    "        )\n",
    "\n",
    "        return data_ingestion_config\n",
    "\n"
   ]
  },
  {
   "cell_type": "markdown",
   "metadata": {},
   "source": [
    "## Components"
   ]
  },
  {
   "cell_type": "code",
   "execution_count": 11,
   "metadata": {},
   "outputs": [
    {
     "name": "stdout",
     "output_type": "stream",
     "text": [
      "Requirement already satisfied: kaggle in c:\\users\\maaz\\anaconda3\\envs\\chicken\\lib\\site-packages (1.6.3)\n",
      "Requirement already satisfied: six>=1.10 in c:\\users\\maaz\\anaconda3\\envs\\chicken\\lib\\site-packages (from kaggle) (1.16.0)\n",
      "Requirement already satisfied: certifi in c:\\users\\maaz\\anaconda3\\envs\\chicken\\lib\\site-packages (from kaggle) (2023.11.17)\n",
      "Requirement already satisfied: python-dateutil in c:\\users\\maaz\\anaconda3\\envs\\chicken\\lib\\site-packages (from kaggle) (2.8.2)\n",
      "Requirement already satisfied: requests in c:\\users\\maaz\\anaconda3\\envs\\chicken\\lib\\site-packages (from kaggle) (2.31.0)\n",
      "Requirement already satisfied: tqdm in c:\\users\\maaz\\anaconda3\\envs\\chicken\\lib\\site-packages (from kaggle) (4.66.1)\n",
      "Requirement already satisfied: python-slugify in c:\\users\\maaz\\anaconda3\\envs\\chicken\\lib\\site-packages (from kaggle) (8.0.1)\n",
      "Requirement already satisfied: urllib3 in c:\\users\\maaz\\anaconda3\\envs\\chicken\\lib\\site-packages (from kaggle) (2.1.0)\n",
      "Requirement already satisfied: bleach in c:\\users\\maaz\\anaconda3\\envs\\chicken\\lib\\site-packages (from kaggle) (6.1.0)\n",
      "Requirement already satisfied: webencodings in c:\\users\\maaz\\anaconda3\\envs\\chicken\\lib\\site-packages (from bleach->kaggle) (0.5.1)\n",
      "Requirement already satisfied: text-unidecode>=1.3 in c:\\users\\maaz\\anaconda3\\envs\\chicken\\lib\\site-packages (from python-slugify->kaggle) (1.3)\n",
      "Requirement already satisfied: charset-normalizer<4,>=2 in c:\\users\\maaz\\anaconda3\\envs\\chicken\\lib\\site-packages (from requests->kaggle) (3.3.2)\n",
      "Requirement already satisfied: idna<4,>=2.5 in c:\\users\\maaz\\anaconda3\\envs\\chicken\\lib\\site-packages (from requests->kaggle) (3.6)\n",
      "Requirement already satisfied: colorama in c:\\users\\maaz\\anaconda3\\envs\\chicken\\lib\\site-packages (from tqdm->kaggle) (0.4.6)\n",
      "Note: you may need to restart the kernel to use updated packages.\n"
     ]
    }
   ],
   "source": [
    "pip install --upgrade kaggle"
   ]
  },
  {
   "cell_type": "code",
   "execution_count": 12,
   "metadata": {},
   "outputs": [],
   "source": [
    "import os\n",
    "import urllib.request as request\n",
    "import zipfile\n",
    "from chicken_disease_classification import  logger\n",
    "from chicken_disease_classification.utils.common import download_kaggle_dataset, get_size"
   ]
  },
  {
   "cell_type": "code",
   "execution_count": 13,
   "metadata": {},
   "outputs": [],
   "source": [
    "class DataIngestion:\n",
    "    def __init__(self,config: DataIngestionConfig):\n",
    "        self.config = config\n",
    "\n",
    "    def download_data(self):\n",
    "        #         # Example usage:\n",
    "        # # Replace the placeholders with your Kaggle dataset details and API credentials\n",
    "\n",
    "        # download_kaggle_dataset(\n",
    "        #     dataset_name='your-username/dataset-name',\n",
    "        #     output_folder='/path/to/local/folder',\n",
    "        #     kaggle_username='your-kaggle-username',\n",
    "        #     kaggle_key='your-kaggle-api-key'\n",
    "        # )\n",
    "\n",
    "        try: \n",
    "            download_kaggle_dataset(\n",
    "                username = self.config.kaggle_username,\n",
    "                dataset_name = self.config.dataset_name,\n",
    "                output_path = self.config.unzip_dir\n",
    "            )\n",
    "\n",
    "            logger.info(f'Downloaded {self.config.dataset_name} to {self.config.unzip_dir} Successfully.')  \n",
    "\n",
    "        except Exception as e:\n",
    "            logger.error(f'Failed to download {self.config.dataset_name} to {self.  config.unzip_dir}. \\nError: {e}')\n",
    "    \n",
    "    "
   ]
  },
  {
   "cell_type": "markdown",
   "metadata": {},
   "source": [
    "## Pipeline"
   ]
  },
  {
   "cell_type": "code",
   "execution_count": 14,
   "metadata": {},
   "outputs": [
    {
     "name": "stdout",
     "output_type": "stream",
     "text": [
      "[2024-01-15 19:03:18,824: INFO: common: yaml file: config\\config.yaml loaded successfully.]\n",
      "[2024-01-15 19:03:18,827: INFO: common: yaml file: params.yaml loaded successfully.]\n",
      "[2024-01-15 19:03:18,830: INFO: common: Created Directory at artifacts.]\n",
      "[2024-01-15 19:03:18,832: INFO: common: Created Directory at artifacts/data_ingestion.]\n",
      "Manager\n",
      "download dataset\n",
      "Error: Command '!kaggle datasets download -d muhammadmaazsayyed/chicken-disease-datasett -p artifacts/data_ingestion' returned non-zero exit status 1.\n",
      "[2024-01-15 19:03:18,872: INFO: 3471341238: Downloaded chicken-disease-dataset to artifacts/data_ingestion Successfully.]\n"
     ]
    }
   ],
   "source": [
    "config = ConfigurationManager()\n",
    "data_ingestion_config = config.get_data_ingestion_config()\n",
    "data_ingestion = DataIngestion(config=data_ingestion_config)\n",
    "\n",
    "data_ingestion.download_data()\n",
    "# kaggle datasets download -d muha/{dataset_name}t -p {output_path}'\n",
    "\n"
   ]
  },
  {
   "cell_type": "code",
   "execution_count": 16,
   "metadata": {},
   "outputs": [
    {
     "name": "stdout",
     "output_type": "stream",
     "text": [
      "403 - Forbidden - Permission 'datasets.get' was denied\n"
     ]
    }
   ],
   "source": [
    "!kaggle datasets download -d muhammadmaazsayyed/chicken-disease-datasett -p artifacts/data_ingestion"
   ]
  },
  {
   "cell_type": "code",
   "execution_count": null,
   "metadata": {},
   "outputs": [],
   "source": []
  }
 ],
 "metadata": {
  "kernelspec": {
   "display_name": "chicken",
   "language": "python",
   "name": "python3"
  },
  "language_info": {
   "codemirror_mode": {
    "name": "ipython",
    "version": 3
   },
   "file_extension": ".py",
   "mimetype": "text/x-python",
   "name": "python",
   "nbconvert_exporter": "python",
   "pygments_lexer": "ipython3",
   "version": "3.8.18"
  }
 },
 "nbformat": 4,
 "nbformat_minor": 2
}
